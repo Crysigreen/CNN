{
 "cells": [
  {
   "cell_type": "code",
   "execution_count": 1,
   "id": "ad39f950",
   "metadata": {
    "cellId": "5fo41u4ezs68iteup9sqfa"
   },
   "outputs": [],
   "source": [
    "import matplotlib.pyplot as plt\n",
    "import numpy as np\n",
    "import os\n",
    "import PIL\n",
    "import tensorflow as tf\n",
    "\n",
    "from tensorflow import keras\n",
    "from tensorflow.keras import layers\n",
    "from tensorflow.keras.models import Sequential"
   ]
  },
  {
   "cell_type": "code",
   "execution_count": 2,
   "id": "ce0b180d",
   "metadata": {
    "cellId": "q9emgag3z69n43hxddhozb"
   },
   "outputs": [],
   "source": [
    "batch_size = 32\n",
    "img_height = 512\n",
    "img_width = 512\n",
    "directory='Hot_Dogs_Photo'"
   ]
  },
  {
   "cell_type": "code",
   "execution_count": 3,
   "id": "2fb96d3e",
   "metadata": {
    "cellId": "p6gbhtx83ulytqgp87c7or"
   },
   "outputs": [
    {
     "name": "stdout",
     "output_type": "stream",
     "text": [
      "Num GPUs Available:  4\n"
     ]
    }
   ],
   "source": [
    "print(\"Num GPUs Available: \", len(tf.config.list_physical_devices('GPU')))"
   ]
  },
  {
   "cell_type": "code",
   "execution_count": 4,
   "id": "59d5f186",
   "metadata": {
    "cellId": "2ysdwl2p8zbkdvd5a87r4e",
    "scrolled": true
   },
   "outputs": [
    {
     "name": "stdout",
     "output_type": "stream",
     "text": [
      "Found 8203 files belonging to 9 classes.\n",
      "Using 5743 files for training.\n"
     ]
    }
   ],
   "source": [
    "Training=tf.keras.utils.image_dataset_from_directory(\n",
    "    directory,\n",
    "    labels='inferred',\n",
    "    label_mode='int',\n",
    "    class_names=None,\n",
    "    color_mode='rgb',\n",
    "    batch_size=32,\n",
    "    image_size=(img_height, img_width),\n",
    "    shuffle=True,\n",
    "    seed=123,\n",
    "    interpolation='gaussian',\n",
    "    validation_split=0.3,\n",
    "    subset=\"training\",\n",
    "    follow_links=False,\n",
    "    crop_to_aspect_ratio=True,\n",
    ")"
   ]
  },
  {
   "cell_type": "code",
   "execution_count": 5,
   "id": "aff83b47",
   "metadata": {
    "cellId": "1c0yb7ome8yz40qqa0kgds",
    "scrolled": true
   },
   "outputs": [
    {
     "name": "stdout",
     "output_type": "stream",
     "text": [
      "Found 8203 files belonging to 9 classes.\n",
      "Using 2460 files for validation.\n"
     ]
    }
   ],
   "source": [
    "Valid=tf.keras.utils.image_dataset_from_directory(\n",
    "    directory,\n",
    "    labels='inferred',\n",
    "    label_mode='int',\n",
    "    class_names=None,\n",
    "    color_mode='rgb',\n",
    "    batch_size=32,\n",
    "    image_size=(img_height, img_width),\n",
    "    shuffle=True,\n",
    "    seed=123,\n",
    "    interpolation='gaussian',\n",
    "    validation_split=0.3,\n",
    "    subset=\"validation\",\n",
    "    follow_links=False,\n",
    "    crop_to_aspect_ratio=True,\n",
    ")"
   ]
  },
  {
   "cell_type": "code",
   "execution_count": 6,
   "id": "2822aa70",
   "metadata": {
    "cellId": "h1ep56rft1u1yicdjo6wnw"
   },
   "outputs": [
    {
     "name": "stdout",
     "output_type": "stream",
     "text": [
      "['.ipynb_checkpoints', 'Beagle', 'Blenheim_spaniel', 'Corgi', 'Dalmatian', 'German_shepherd', 'Huskies', 'Labrador', 'Shar_pei']\n"
     ]
    }
   ],
   "source": [
    "class_names = Training.class_names\n",
    "print(class_names)"
   ]
  },
  {
   "cell_type": "code",
   "execution_count": 7,
   "id": "691cd531",
   "metadata": {
    "cellId": "5tn5bbbx2kij86wj42vu7"
   },
   "outputs": [
    {
     "name": "stdout",
     "output_type": "stream",
     "text": [
      "(32, 512, 512, 3)\n",
      "(32,)\n"
     ]
    }
   ],
   "source": [
    "for image_batch, labels_batch in Training:\n",
    "  print(image_batch.shape)\n",
    "  print(labels_batch.shape)\n",
    "  break"
   ]
  },
  {
   "cell_type": "code",
   "execution_count": 8,
   "id": "7f28bb8a",
   "metadata": {
    "cellId": "xbmjsdivbjriaq195m0cx"
   },
   "outputs": [],
   "source": [
    "# AUTOTUNE = tf.data.AUTOTUNE\n",
    "\n",
    "# Training = Training.cache().shuffle(1000).prefetch(buffer_size=AUTOTUNE)\n",
    "# Valid = Valid.cache().prefetch(buffer_size=AUTOTUNE)"
   ]
  },
  {
   "cell_type": "code",
   "execution_count": 9,
   "id": "9b27fb12",
   "metadata": {
    "cellId": "11ynknbo2ggownnbk9xst88"
   },
   "outputs": [],
   "source": [
    "num_classes = len(class_names)\n",
    "\n",
    "data_augmentation = keras.Sequential(\n",
    "  [\n",
    "    layers.RandomFlip(\"horizontal_and_vertical\",\n",
    "                      input_shape=(img_height,\n",
    "                                  img_width,\n",
    "                                  3)),\n",
    "    layers.RandomRotation(0.2),\n",
    "    layers.RandomZoom(0.2),\n",
    "  ]\n",
    ")\n",
    "\n",
    "model = Sequential([\n",
    "  data_augmentation,\n",
    "  #layers.Resizing(img_height, img_width,interpolation='gaussian'),\n",
    "  layers.Rescaling(1./255, input_shape=(img_height, img_width, 3)),\n",
    "  layers.Conv2D(16, 3, padding='same', activation='relu'),\n",
    "  layers.MaxPooling2D(),\n",
    "  layers.Conv2D(32, 3, padding='same', activation='relu'),\n",
    "  layers.MaxPooling2D(),\n",
    "  layers.Conv2D(64, 3, padding='same', activation='relu'),\n",
    "  layers.MaxPooling2D(),\n",
    "  layers.Conv2D(128, 3, padding='same', activation='relu'),\n",
    "  layers.MaxPooling2D(),\n",
    "  layers.Conv2D(256, 3, padding='same', activation='relu'),\n",
    "  layers.MaxPooling2D(),\n",
    "  layers.Conv2D(512, 3, padding='same', activation='relu'),\n",
    "  layers.MaxPooling2D(),\n",
    "  layers.Conv2D(1024, 3, padding='same', activation='relu'),\n",
    "  layers.MaxPooling2D(),\n",
    "  layers.Dropout(0.3),\n",
    "  layers.Flatten(),\n",
    "  layers.Dense(128, activation='relu'),\n",
    "  layers.Dense(num_classes)\n",
    "])"
   ]
  },
  {
   "cell_type": "code",
   "execution_count": 10,
   "id": "5faa7080",
   "metadata": {
    "cellId": "gpv3vqxo8kb7o9zz2zf0f6"
   },
   "outputs": [],
   "source": [
    "model.compile(optimizer='adam',\n",
    "              loss=tf.keras.losses.SparseCategoricalCrossentropy(from_logits=True),\n",
    "              metrics=['accuracy'])"
   ]
  },
  {
   "cell_type": "code",
   "execution_count": 11,
   "id": "27a73cd0",
   "metadata": {
    "cellId": "lpfe06p6ebcdls4oqhq4lo"
   },
   "outputs": [
    {
     "name": "stdout",
     "output_type": "stream",
     "text": [
      "Model: \"sequential_1\"\n",
      "_________________________________________________________________\n",
      "Layer (type)                 Output Shape              Param #   \n",
      "=================================================================\n",
      "sequential (Sequential)      (None, 512, 512, 3)       0         \n",
      "_________________________________________________________________\n",
      "rescaling (Rescaling)        (None, 512, 512, 3)       0         \n",
      "_________________________________________________________________\n",
      "conv2d (Conv2D)              (None, 512, 512, 16)      448       \n",
      "_________________________________________________________________\n",
      "max_pooling2d (MaxPooling2D) (None, 256, 256, 16)      0         \n",
      "_________________________________________________________________\n",
      "conv2d_1 (Conv2D)            (None, 256, 256, 32)      4640      \n",
      "_________________________________________________________________\n",
      "max_pooling2d_1 (MaxPooling2 (None, 128, 128, 32)      0         \n",
      "_________________________________________________________________\n",
      "conv2d_2 (Conv2D)            (None, 128, 128, 64)      18496     \n",
      "_________________________________________________________________\n",
      "max_pooling2d_2 (MaxPooling2 (None, 64, 64, 64)        0         \n",
      "_________________________________________________________________\n",
      "conv2d_3 (Conv2D)            (None, 64, 64, 128)       73856     \n",
      "_________________________________________________________________\n",
      "max_pooling2d_3 (MaxPooling2 (None, 32, 32, 128)       0         \n",
      "_________________________________________________________________\n",
      "conv2d_4 (Conv2D)            (None, 32, 32, 256)       295168    \n",
      "_________________________________________________________________\n",
      "max_pooling2d_4 (MaxPooling2 (None, 16, 16, 256)       0         \n",
      "_________________________________________________________________\n",
      "conv2d_5 (Conv2D)            (None, 16, 16, 512)       1180160   \n",
      "_________________________________________________________________\n",
      "max_pooling2d_5 (MaxPooling2 (None, 8, 8, 512)         0         \n",
      "_________________________________________________________________\n",
      "conv2d_6 (Conv2D)            (None, 8, 8, 1024)        4719616   \n",
      "_________________________________________________________________\n",
      "max_pooling2d_6 (MaxPooling2 (None, 4, 4, 1024)        0         \n",
      "_________________________________________________________________\n",
      "dropout (Dropout)            (None, 4, 4, 1024)        0         \n",
      "_________________________________________________________________\n",
      "flatten (Flatten)            (None, 16384)             0         \n",
      "_________________________________________________________________\n",
      "dense (Dense)                (None, 128)               2097280   \n",
      "_________________________________________________________________\n",
      "dense_1 (Dense)              (None, 9)                 1161      \n",
      "=================================================================\n",
      "Total params: 8,390,825\n",
      "Trainable params: 8,390,825\n",
      "Non-trainable params: 0\n",
      "_________________________________________________________________\n"
     ]
    }
   ],
   "source": [
    "model.summary()"
   ]
  },
  {
   "cell_type": "code",
   "execution_count": 12,
   "id": "53fe3957",
   "metadata": {
    "cellId": "lq1yfcrsr0iktl2krga0r"
   },
   "outputs": [
    {
     "name": "stdout",
     "output_type": "stream",
     "text": [
      "180/180 [==============================] - 36s 201ms/step - loss: 0.2204 - accuracy: 0.9251 - val_loss: 0.3815 - val_accuracy: 0.8972\n",
      "Epoch 69/100\n",
      "180/180 [==============================] - 35s 193ms/step - loss: 0.2088 - accuracy: 0.9290 - val_loss: 0.2900 - val_accuracy: 0.9110\n",
      "Epoch 70/100\n",
      "180/180 [==============================] - 35s 195ms/step - loss: 0.2130 - accuracy: 0.9230 - val_loss: 0.3470 - val_accuracy: 0.9012\n",
      "Epoch 71/100\n",
      "180/180 [==============================] - 36s 201ms/step - loss: 0.2290 - accuracy: 0.9208 - val_loss: 0.3222 - val_accuracy: 0.9024\n",
      "Epoch 72/100\n",
      "180/180 [==============================] - 37s 202ms/step - loss: 0.2283 - accuracy: 0.9211 - val_loss: 0.3680 - val_accuracy: 0.8805\n",
      "Epoch 73/100\n",
      "180/180 [==============================] - 36s 199ms/step - loss: 0.2210 - accuracy: 0.9272 - val_loss: 0.3354 - val_accuracy: 0.8996\n",
      "Epoch 74/100\n",
      "180/180 [==============================] - 36s 199ms/step - loss: 0.2166 - accuracy: 0.9262 - val_loss: 0.3090 - val_accuracy: 0.9077\n",
      "Epoch 75/100\n",
      "180/180 [==============================] - 36s 198ms/step - loss: 0.1980 - accuracy: 0.9314 - val_loss: 0.3483 - val_accuracy: 0.9065\n",
      "Epoch 76/100\n",
      "180/180 [==============================] - 36s 201ms/step - loss: 0.1799 - accuracy: 0.9349 - val_loss: 0.3315 - val_accuracy: 0.8972\n",
      "Epoch 77/100\n",
      "180/180 [==============================] - 35s 195ms/step - loss: 0.1990 - accuracy: 0.9316 - val_loss: 0.3262 - val_accuracy: 0.9065\n",
      "Epoch 78/100\n",
      "180/180 [==============================] - 36s 200ms/step - loss: 0.1937 - accuracy: 0.9330 - val_loss: 0.3391 - val_accuracy: 0.9037\n",
      "Epoch 79/100\n",
      "180/180 [==============================] - 36s 202ms/step - loss: 0.2058 - accuracy: 0.9328 - val_loss: 0.3219 - val_accuracy: 0.9049\n",
      "Epoch 80/100\n",
      "180/180 [==============================] - 37s 204ms/step - loss: 0.1989 - accuracy: 0.9323 - val_loss: 0.3346 - val_accuracy: 0.8988\n",
      "Epoch 81/100\n",
      "180/180 [==============================] - 36s 201ms/step - loss: 0.1781 - accuracy: 0.9384 - val_loss: 0.3374 - val_accuracy: 0.9020\n",
      "Epoch 82/100\n",
      "180/180 [==============================] - 36s 200ms/step - loss: 0.1897 - accuracy: 0.9345 - val_loss: 0.3597 - val_accuracy: 0.8988\n",
      "Epoch 83/100\n",
      "180/180 [==============================] - 35s 195ms/step - loss: 0.1892 - accuracy: 0.9342 - val_loss: 0.2919 - val_accuracy: 0.9179\n",
      "Epoch 84/100\n",
      "180/180 [==============================] - 35s 196ms/step - loss: 0.1875 - accuracy: 0.9345 - val_loss: 0.3566 - val_accuracy: 0.8947\n",
      "Epoch 85/100\n",
      "180/180 [==============================] - 36s 196ms/step - loss: 0.1923 - accuracy: 0.9338 - val_loss: 0.3506 - val_accuracy: 0.9033\n",
      "Epoch 86/100\n",
      "180/180 [==============================] - 36s 197ms/step - loss: 0.1880 - accuracy: 0.9378 - val_loss: 0.4212 - val_accuracy: 0.8874\n",
      "Epoch 87/100\n",
      "180/180 [==============================] - 36s 199ms/step - loss: 0.1904 - accuracy: 0.9359 - val_loss: 0.2843 - val_accuracy: 0.9191\n",
      "Epoch 88/100\n",
      "180/180 [==============================] - 36s 198ms/step - loss: 0.1697 - accuracy: 0.9420 - val_loss: 0.3567 - val_accuracy: 0.8988\n",
      "Epoch 89/100\n",
      "180/180 [==============================] - 36s 199ms/step - loss: 0.1952 - accuracy: 0.9344 - val_loss: 0.3402 - val_accuracy: 0.9016\n",
      "Epoch 90/100\n",
      "180/180 [==============================] - 35s 195ms/step - loss: 0.1812 - accuracy: 0.9364 - val_loss: 0.3245 - val_accuracy: 0.9126\n",
      "Epoch 91/100\n",
      "180/180 [==============================] - 36s 201ms/step - loss: 0.1872 - accuracy: 0.9370 - val_loss: 0.2959 - val_accuracy: 0.9130\n",
      "Epoch 92/100\n",
      "180/180 [==============================] - 36s 198ms/step - loss: 0.1792 - accuracy: 0.9404 - val_loss: 0.4308 - val_accuracy: 0.8789\n",
      "Epoch 93/100\n",
      "180/180 [==============================] - 36s 197ms/step - loss: 0.1799 - accuracy: 0.9366 - val_loss: 0.2967 - val_accuracy: 0.9150\n",
      "Epoch 94/100\n",
      "180/180 [==============================] - 36s 197ms/step - loss: 0.1811 - accuracy: 0.9385 - val_loss: 0.3557 - val_accuracy: 0.9089\n",
      "Epoch 95/100\n",
      "180/180 [==============================] - 36s 199ms/step - loss: 0.1798 - accuracy: 0.9422 - val_loss: 0.3372 - val_accuracy: 0.9102\n",
      "Epoch 96/100\n",
      "180/180 [==============================] - 36s 198ms/step - loss: 0.1527 - accuracy: 0.9474 - val_loss: 0.3286 - val_accuracy: 0.9159\n",
      "Epoch 97/100\n",
      "180/180 [==============================] - 36s 198ms/step - loss: 0.1974 - accuracy: 0.9351 - val_loss: 0.2760 - val_accuracy: 0.9191\n",
      "Epoch 98/100\n",
      "180/180 [==============================] - 36s 200ms/step - loss: 0.1742 - accuracy: 0.9452 - val_loss: 0.3142 - val_accuracy: 0.9146\n",
      "Epoch 99/100\n",
      "180/180 [==============================] - 36s 200ms/step - loss: 0.1647 - accuracy: 0.9465 - val_loss: 0.4509 - val_accuracy: 0.8683\n",
      "Epoch 100/100\n",
      "180/180 [==============================] - 36s 197ms/step - loss: 0.1853 - accuracy: 0.9347 - val_loss: 0.3289 - val_accuracy: 0.9122\n"
     ]
    }
   ],
   "source": [
    "epochs=100\n",
    "history = model.fit(\n",
    "  Training,\n",
    "  validation_data=Valid,\n",
    "  epochs=epochs\n",
    ")"
   ]
  },
  {
   "cell_type": "code",
   "execution_count": 15,
   "id": "21a918ed",
   "metadata": {
    "cellId": "ypzb4k24nykkzdwyoryh4f"
   },
   "outputs": [
    {
     "data": {
      "image/png": "[encoded data removed]",
      "text/plain": [
       "<Figure size 576x576 with 2 Axes>"
      ]
     },
     "metadata": {
      "needs_background": "light"
     },
     "output_type": "display_data"
    }
   ],
   "source": [
    "acc = history.history['accuracy']\n",
    "val_acc = history.history['val_accuracy']\n",
    "\n",
    "loss = history.history['loss']\n",
    "val_loss = history.history['val_loss']\n",
    "\n",
    "epochs_range = range(epochs)\n",
    "\n",
    "plt.figure(figsize=(8, 8))\n",
    "plt.subplot(1, 2, 1)\n",
    "plt.plot(epochs_range, acc, label='Training Accuracy')\n",
    "plt.plot(epochs_range, val_acc, label='Validation Accuracy')\n",
    "plt.legend(loc='lower right')\n",
    "plt.title('Training and Validation Accuracy')\n",
    "\n",
    "plt.subplot(1, 2, 2)\n",
    "plt.plot(epochs_range, loss, label='Training Loss')\n",
    "plt.plot(epochs_range, val_loss, label='Validation Loss')\n",
    "plt.legend(loc='upper right')\n",
    "plt.title('Training and Validation Loss')\n",
    "plt.savefig('512-7.png')\n",
    "plt.show()\n",
    "#print('acc = ',acc)\n",
    "#print('val_acc = ',val_acc)\n",
    "#print('loss = ',loss)\n",
    "#print('val_loss = ',val_loss)\n",
    "#print('epochs_range = ',epochs_range)"
   ]
  },
  {
   "cell_type": "code",
   "execution_count": 14,
   "id": "ef5c1905",
   "metadata": {
    "cellId": "18l37mef17qybhu3ro2j6"
   },
   "outputs": [
    {
     "name": "stdout",
     "output_type": "stream",
     "text": [
      "INFO:tensorflow:Assets written to: Model/assets\n"
     ]
    }
   ],
   "source": [
    "#!g1.4\n",
    "model.save('Model')"
   ]
  },
  {
   "cell_type": "code",
   "execution_count": 24,
   "id": "fdca7f72",
   "metadata": {
    "cellId": "uxvef00r1rrs557ylljxq"
   },
   "outputs": [
    {
     "name": "stdout",
     "output_type": "stream",
     "text": [
      "This image most likely belongs to Shar_pei with a 49.19 percent confidence.\n"
     ]
    }
   ],
   "source": [
    "#!g1.4\n",
    "image=tf.keras.preprocessing.image.load_img('4.jpg',target_size=(512,512))\n",
    "input_arr=tf.keras.preprocessing.image.img_to_array(image)\n",
    "img_array=tf.expand_dims(input_arr,0)\n",
    "predictions = model.predict(img_array)\n",
    "score = tf.nn.softmax(predictions)\n",
    "\n",
    "print(\n",
    "    \"This image most likely belongs to {} with a {:.2f} percent confidence.\"\n",
    "    .format(class_names[np.argmax(score)], 100 * np.max(score))\n",
    ")"
   ]
  },
  {
   "cell_type": "code",
   "execution_count": null,
   "id": "769c9514",
   "metadata": {
    "cellId": "3lqxh9cshozc41y7cw5vs4"
   },
   "outputs": [],
   "source": [
    "#!g1.4\n"
   ]
  }
 ],
 "metadata": {
  "kernelspec": {
   "display_name": "Python 3 (ipykernel)",
   "language": "python",
   "name": "python3"
  },
  "language_info": {
   "codemirror_mode": {
    "name": "ipython",
    "version": 3
   },
   "file_extension": ".py",
   "mimetype": "text/x-python",
   "name": "python",
   "nbconvert_exporter": "python",
   "pygments_lexer": "ipython3",
   "version": "3.9.13"
  },
  "notebookId": "dbeec24f-6a47-4bfd-9faf-1019b30b5b8c",
  "notebookPath": "Untitled-checkpoint.ipynb"
 },
 "nbformat": 4,
 "nbformat_minor": 5
}
